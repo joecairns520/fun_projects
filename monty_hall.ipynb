{
 "cells": [
  {
   "cell_type": "markdown",
   "metadata": {},
   "source": [
    "## Monty Hall Problem"
   ]
  },
  {
   "cell_type": "markdown",
   "metadata": {},
   "source": [
    "Bored during lockdown so going to have a go at coding up the Monty Hall problem!\n",
    "\n",
    "First read in some useful packages."
   ]
  },
  {
   "cell_type": "code",
   "execution_count": null,
   "metadata": {},
   "outputs": [],
   "source": [
    "import scipy as sp\n",
    "import matplotlib.pyplot as plt\n",
    "import seaborn as sns\n",
    "\n",
    "import matplotlib\n",
    "\n",
    "# Also I'm going to select my color palette here\n",
    "palette = sns.color_palette('colorblind')"
   ]
  },
  {
   "cell_type": "markdown",
   "metadata": {},
   "source": [
    "## 1. Three Doors\n",
    "\n",
    "We're going to define a function that runs one trial of the monty hall problem, then we can repeat this many times to build up the probability distribution."
   ]
  },
  {
   "cell_type": "code",
   "execution_count": null,
   "metadata": {},
   "outputs": [],
   "source": [
    "# The change parameter here just represents whether or not you want to change your door choice on this particular\n",
    "# Monty Hall run.\n",
    "def monty_hall_run(change):\n",
    "    doors = [1,2,3]\n",
    "    # Set up the correct door and the initial door you choose\n",
    "    correct_door = sp.random.choice(doors)\n",
    "    chosen_door = sp.random.choice(doors)\n",
    "    \n",
    "    # Now we eliminate one door that is the incorrect door\n",
    "    other_doors = []\n",
    "    for door in doors:\n",
    "        if (door != correct_door) & (door != chosen_door):\n",
    "            other_doors.append(door)\n",
    "    \n",
    "    open_door = sp.random.choice(other_doors)\n",
    "    doors.remove(open_door)\n",
    "    \n",
    "    door1 = doors[0]\n",
    "    door2 = doors[1]\n",
    "    if change == True:\n",
    "        if chosen_door == door1:\n",
    "            chosen_door = door2\n",
    "        elif chosen_door == door2:\n",
    "            chosen_door = door1\n",
    "    \n",
    "    # Here, I set the result to 100 if the correct door was chosen, and 0 if the incorrect door was chosen\n",
    "    # I then return the result - this will make it easier to plot later and we'll see why\n",
    "    result = None\n",
    "    if chosen_door == correct_door:\n",
    "        result = 100\n",
    "    else:\n",
    "        result = 0\n",
    "    return result   "
   ]
  },
  {
   "cell_type": "markdown",
   "metadata": {},
   "source": [
    "Now we can run it many times, store the result and plot what happens if you change your answer or don't change your answer after the first door is opened."
   ]
  },
  {
   "cell_type": "code",
   "execution_count": null,
   "metadata": {},
   "outputs": [],
   "source": [
    "change_doors, nochange_doors = [], []\n",
    "for i in sp.arange(0,1000):\n",
    "    change_doors.append(monty_hall_run(True))\n",
    "    nochange_doors.append(monty_hall_run(False))"
   ]
  },
  {
   "cell_type": "markdown",
   "metadata": {},
   "source": [
    "And here we can plot the results."
   ]
  },
  {
   "cell_type": "code",
   "execution_count": null,
   "metadata": {},
   "outputs": [],
   "source": [
    "x_ticks = [10, 90]\n",
    "x_labels = ['Incorrect', 'Correct']\n",
    "\n",
    "matplotlib.rcParams.update({'font.size': 16})\n",
    "fig = plt.figure(figsize = (20, 8))\n",
    "sns.set_style('ticks')\n",
    "\n",
    "ax = fig.add_subplot(121)\n",
    "sns.distplot(change_doors, kde=False, hist_kws = {'align': 'mid'}, color = palette[0], label = 'Change Doors')\n",
    "plt.legend()\n",
    "plt.xticks(x_ticks, x_labels)\n",
    "\n",
    "ax2 = fig.add_subplot(122)\n",
    "sns.distplot(nochange_doors, kde=False, hist_kws = {'align': 'mid'}, color = palette[1], label = \"Don't Change Doors\")\n",
    "plt.legend()\n",
    "plt.xticks(x_ticks, x_labels)\n",
    "\n",
    "plt.show()"
   ]
  },
  {
   "cell_type": "markdown",
   "metadata": {},
   "source": [
    "So for one 100 runs of the Monty Hall problem, apparently you'll select the right door ~2/3 of the time if you change and ~1/3 if you don't. But is this just a fluke? For a slightly more rigorous test, I will now repeat this, but instead taking a thousand iterations of 100 monty hall runs to see what the distribution of correct fractions if if you change and don't change the selected door."
   ]
  },
  {
   "cell_type": "code",
   "execution_count": null,
   "metadata": {},
   "outputs": [],
   "source": [
    "change_prob, nochange_prob = [], []\n",
    "for i in sp.arange(0,1000):\n",
    "    change_doors, nochange_doors = [], []\n",
    "    for j in sp.arange(0,1000):\n",
    "        change_doors.append(monty_hall_run(True))\n",
    "        nochange_doors.append(monty_hall_run(False))\n",
    "        \n",
    "    change_prob.append(len(sp.array(change_doors)[sp.array(change_doors) == 100]) / 1000.)\n",
    "    nochange_prob.append(len(sp.array(nochange_doors)[sp.array(nochange_doors) == 100]) / 1000.)"
   ]
  },
  {
   "cell_type": "markdown",
   "metadata": {},
   "source": [
    "And then plot the result!"
   ]
  },
  {
   "cell_type": "code",
   "execution_count": null,
   "metadata": {},
   "outputs": [],
   "source": [
    "plt.figure(figsize = (10, 7))\n",
    "sns.set_style('ticks')\n",
    "matplotlib.rcParams.update({'font.size': 16})\n",
    "\n",
    "sns.distplot(change_prob, kde=False, hist_kws = {'align': 'mid'}, color = palette[0], \n",
    "             label = 'Change Doors')\n",
    "sns.distplot(nochange_prob, kde=False, hist_kws = {'align': 'mid'}, color = palette[1], \n",
    "             label = \"Don't Change Doors\")\n",
    "\n",
    "plt.xlabel('Probability of Selecting Correct Door')\n",
    "plt.ylabel('Number of Monty Hall Runs')\n",
    "plt.legend()\n",
    "plt.savefig('monty_hall_results.png')\n",
    "plt.show()"
   ]
  },
  {
   "cell_type": "markdown",
   "metadata": {},
   "source": [
    "## 2. Four Doors\n",
    "\n",
    "Now we repeat this for four doors!"
   ]
  },
  {
   "cell_type": "code",
   "execution_count": null,
   "metadata": {},
   "outputs": [],
   "source": [
    "def monty_hall_4_run(change):\n",
    "    doors = [1,2,3,4]\n",
    "    # Set up the correct door and the initial door you choose\n",
    "    correct_door = sp.random.choice(doors)\n",
    "    chosen_door = sp.random.choice(doors)\n",
    "    \n",
    "    # Now we eliminate one door that is the incorrect door\n",
    "    other_doors = []\n",
    "    for door in doors:\n",
    "        if (door != correct_door) & (door != chosen_door):\n",
    "            other_doors.append(door)\n",
    "    \n",
    "    open_door = sp.random.choice(other_doors)\n",
    "    doors.remove(open_door)\n",
    "    \n",
    "    door1 = doors[0]\n",
    "    door2 = doors[1]\n",
    "    door3 = doors[2]\n",
    "    \n",
    "    # First try randomly changing to one of the other two doors.\n",
    "    if change == True:\n",
    "        if chosen_door == door1:\n",
    "            chosen_door = sp.random.choice([door2, door3])\n",
    "        elif chosen_door == door2:\n",
    "            chosen_door = sp.random.choice([door1, door3])\n",
    "        elif chosen_door == door3:\n",
    "            chosen_door = sp.random.choice([door1, door2])\n",
    "    \n",
    "    # Here, I set the result to 100 if the correct door was chosen, and 0 if the incorrect door was chosen\n",
    "    # I then return the result\n",
    "    result = None\n",
    "    if chosen_door == correct_door:\n",
    "        result = 100\n",
    "    else:\n",
    "        result = 0\n",
    "    return result   "
   ]
  },
  {
   "cell_type": "code",
   "execution_count": null,
   "metadata": {},
   "outputs": [],
   "source": [
    "change_doors, nochange_doors = [], []\n",
    "for i in sp.arange(0,1000):\n",
    "    change_doors.append(monty_hall_4_run(True))\n",
    "    nochange_doors.append(monty_hall_4_run(False))"
   ]
  },
  {
   "cell_type": "code",
   "execution_count": null,
   "metadata": {},
   "outputs": [],
   "source": [
    "x_ticks = [10, 90]\n",
    "x_labels = ['Incorrect', 'Correct']\n",
    "\n",
    "matplotlib.rcParams.update({'font.size': 16})\n",
    "fig = plt.figure(figsize = (20, 8))\n",
    "sns.set_style('ticks')\n",
    "\n",
    "ax = fig.add_subplot(121)\n",
    "sns.distplot(change_doors, kde=False, hist_kws = {'align': 'mid'}, color = palette[0], label = 'Change Doors')\n",
    "plt.legend()\n",
    "plt.xticks(x_ticks, x_labels)\n",
    "\n",
    "ax2 = fig.add_subplot(122)\n",
    "sns.distplot(nochange_doors, kde=False, hist_kws = {'align': 'mid'}, color = palette[1], label = \"Don't Change Doors\")\n",
    "plt.legend()\n",
    "plt.xticks(x_ticks, x_labels)\n",
    "\n",
    "plt.show()"
   ]
  },
  {
   "cell_type": "code",
   "execution_count": null,
   "metadata": {},
   "outputs": [],
   "source": [
    "change_prob, nochange_prob = [], []\n",
    "for i in sp.arange(0,1000):\n",
    "    change_doors, nochange_doors = [], []\n",
    "    for j in sp.arange(0,1000):\n",
    "        change_doors.append(monty_hall_4_run(True))\n",
    "        nochange_doors.append(monty_hall_4_run(False))\n",
    "        \n",
    "    change_prob.append(len(sp.array(change_doors)[sp.array(change_doors) == 100]) / 1000.)\n",
    "    nochange_prob.append(len(sp.array(nochange_doors)[sp.array(nochange_doors) == 100]) / 1000.)"
   ]
  },
  {
   "cell_type": "code",
   "execution_count": null,
   "metadata": {},
   "outputs": [],
   "source": [
    "plt.figure(figsize = (10, 7))\n",
    "sns.set_style('ticks')\n",
    "matplotlib.rcParams.update({'font.size': 16})\n",
    "\n",
    "sns.distplot(change_prob, kde=False, hist_kws = {'align': 'mid'}, color = palette[0], \n",
    "             label = 'Change Doors')\n",
    "sns.distplot(nochange_prob, kde=False, hist_kws = {'align': 'mid'}, color = palette[1], \n",
    "             label = \"Don't Change Doors\")\n",
    "\n",
    "plt.xlabel('Probability of Selecting Correct Door')\n",
    "plt.ylabel('Number of Monty Hall Runs')\n",
    "plt.legend()\n",
    "plt.savefig('monty_hall_results_4doors.png')\n",
    "plt.show()"
   ]
  }
 ],
 "metadata": {
  "kernelspec": {
   "display_name": "Python 3",
   "language": "python",
   "name": "python3"
  },
  "language_info": {
   "codemirror_mode": {
    "name": "ipython",
    "version": 3
   },
   "file_extension": ".py",
   "mimetype": "text/x-python",
   "name": "python",
   "nbconvert_exporter": "python",
   "pygments_lexer": "ipython3",
   "version": "3.7.6"
  }
 },
 "nbformat": 4,
 "nbformat_minor": 4
}
