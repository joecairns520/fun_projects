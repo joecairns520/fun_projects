{
 "cells": [
  {
   "cell_type": "markdown",
   "metadata": {},
   "source": [
    "## Solar System Simulation"
   ]
  },
  {
   "cell_type": "markdown",
   "metadata": {},
   "source": [
    "This code produces a simple solar system simulation. First, define some paths and read in some packages."
   ]
  },
  {
   "cell_type": "code",
   "execution_count": null,
   "metadata": {},
   "outputs": [],
   "source": [
    "%matplotlib inline\n",
    "from PhysicsVector import PhysicsVector\n",
    "from PlanetObject import Planet\n",
    "from constants import c\n",
    "from matplotlib import animation\n",
    "from IPython.display import HTML\n",
    "from mpl_toolkits.mplot3d import Axes3D\n",
    "\n",
    "import matplotlib.pyplot as plt\n",
    "import seaborn as sns\n",
    "import numpy as np\n",
    "\n",
    "import matplotlib"
   ]
  },
  {
   "cell_type": "markdown",
   "metadata": {},
   "source": [
    "Next, define a time step and create the planet objects to be used in the simulation. Masses are in kg, distances are in meters and velocities are in m/s."
   ]
  },
  {
   "cell_type": "code",
   "execution_count": null,
   "metadata": {},
   "outputs": [],
   "source": [
    "time_step = 7200.\n",
    "\n",
    "t = 0\n",
    "sun = Planet(1.989e30, 695510000., PhysicsVector(0., 0., 0.), PhysicsVector(0., 0., 0.), 'Sun')\n",
    "mercury = Planet(0.33e24, 2439500., PhysicsVector(-47360., 0., 0.), PhysicsVector(0., 58e9, 0.), 'Mercury')\n",
    "venus = Planet(4.87e24, 6052000., PhysicsVector(0., -35000., 0.), PhysicsVector(-108e9, 0., 0.), 'Venus')\n",
    "earth = Planet(5.972e24, 6371000., PhysicsVector(0., 30555.5, 0.), PhysicsVector(1.47e11, 0., 0.), 'Earth')\n",
    "moon = Planet(7.348e22, 1737100., PhysicsVector(0., 32000, 0.), PhysicsVector(1.499844e11, 0., 0.),'Moon')\n",
    "mars = Planet(0.642e24, 3396000., PhysicsVector(24100., 0., 0.), PhysicsVector(0., -227.9e9, 0.), 'Mars')\n",
    "# jupiter = Planet(1898e24, 71492000., PhysicsVector(0., 13100., 0.), PhysicsVector(778.6e9, 0., 0.),'Jupiter')\n",
    "# saturn = Planet(568e24, 60268000., PhysicsVector(-9700., 0., 0.), PhysicsVector(0., 1433.5e9, 0.), 'Saturn')\n",
    "# uranus = Planet(86.8e24, 25559000., PhysicsVector(0., -6800., 0.), PhysicsVector(-2872.5e9, 0., 0.), 'Uranus')\n",
    "# neptune = Planet(102e24, 24764000., PhysicsVector(5400., 0., 0.), PhysicsVector(0., -4495.1e9, 0.), 'Neptune')\n",
    "\n",
    "\n",
    "planets = [sun, mercury, venus, earth, moon, mars]"
   ]
  },
  {
   "cell_type": "markdown",
   "metadata": {},
   "source": [
    "This cell actually carries out the simulation."
   ]
  },
  {
   "cell_type": "code",
   "execution_count": null,
   "metadata": {},
   "outputs": [],
   "source": [
    "earthx, sunx, moonx, mercuryx, venusx, marsx, jupiterx, saturnx, uranusx, neptunex = [], [], [], [], [], [], [], [], [], []\n",
    "earthy, suny, moony, mercuryy, venusy, marsy, jupitery, saturny, uranusy, neptuney = [], [], [], [], [], [], [], [], [], []\n",
    "earthz, sunz, moonz, mercuryz, venusz, marsz, jupiterz, saturnz, uranusz, neptunez = [], [], [], [], [], [], [], [], [], []\n",
    "\n",
    "\n",
    "mercury_v = []\n",
    "while t <= (31536000 * 1):\n",
    "    \n",
    "    earthx.append(earth.get_position().get_x())\n",
    "    sunx.append(sun.get_position().get_x())\n",
    "    moonx.append(moon.get_position().get_x())\n",
    "    mercuryx.append(mercury.get_position().get_x())\n",
    "    venusx.append(venus.get_position().get_x())\n",
    "    marsx.append(mars.get_position().get_x())\n",
    "#     jupiterx.append(jupiter.get_position().get_x())\n",
    "#     saturnx.append(saturn.get_position().get_x())\n",
    "#     uranusx.append(uranus.get_position().get_x())\n",
    "#     neptunex.append(neptune.get_position().get_x())\n",
    "    \n",
    "    earthy.append(earth.get_position().get_y())\n",
    "    suny.append(sun.get_position().get_y())\n",
    "    moony.append(moon.get_position().get_y())\n",
    "    mercuryy.append(mercury.get_position().get_y())\n",
    "    venusy.append(venus.get_position().get_y())\n",
    "    marsy.append(mars.get_position().get_y())\n",
    "#     jupitery.append(jupiter.get_position().get_y())\n",
    "#     saturny.append(saturn.get_position().get_y())\n",
    "#     uranusy.append(uranus.get_position().get_y())\n",
    "#     neptuney.append(neptune.get_position().get_y())\n",
    "    \n",
    "    earthz.append(earth.get_position().get_z())\n",
    "    sunz.append(sun.get_position().get_z())\n",
    "    moonz.append(moon.get_position().get_z())\n",
    "    mercuryz.append(mercury.get_position().get_z())\n",
    "    venusz.append(venus.get_position().get_z())\n",
    "    marsz.append(mars.get_position().get_z())\n",
    "#     jupiterz.append(jupiter.get_position().get_z())\n",
    "#     saturnz.append(saturn.get_position().get_z())\n",
    "#     uranusz.append(uranus.get_position().get_z())\n",
    "#     neptunez.append(neptune.get_position().get_z())\n",
    "    \n",
    "    earth.update(time_step, planets)\n",
    "    sun.update(time_step,planets)\n",
    "    moon.update(time_step, planets)\n",
    "    mercury.update(time_step, planets)\n",
    "    venus.update(time_step, planets)\n",
    "    mars.update(time_step, planets)\n",
    "#     jupiter.update(time_step, planets)\n",
    "#     saturn.update(time_step, planets)\n",
    "#     uranus.update(time_step, planets)\n",
    "#     neptune.update(time_step, planets)\n",
    "\n",
    "    t += time_step"
   ]
  },
  {
   "cell_type": "markdown",
   "metadata": {},
   "source": [
    "Now we plot the trajectories of the planets with matplotlib - we'll start with a simple 2D plot. Because of the scale of the innter planets, I'm going to make this plot with two subplots - one showing the whole system and another showing the inner planets."
   ]
  },
  {
   "cell_type": "code",
   "execution_count": null,
   "metadata": {
    "scrolled": false
   },
   "outputs": [],
   "source": [
    "fig = plt.figure(figsize=(20,9))\n",
    "sns.set_style('ticks')\n",
    "matplotlib.rcParams.update({'font.size': 14})\n",
    "ax1 = fig.add_subplot(121)\n",
    "ax2 = fig.add_subplot(122)\n",
    "\n",
    "ax1.set_title('Whole System')\n",
    "ax1.scatter(earthx, earthy, marker = 'o', c = 'blue', s = 5, label = 'Earth')\n",
    "ax1.scatter(sunx, suny, marker = 'o', c = 'darkorange', s = 5, label = 'Sun')\n",
    "ax1.scatter(moonx, moony, marker = 'o', c = 'darkgray', s = 5, label = 'Moon')\n",
    "ax1.scatter(mercuryx, mercuryy, marker = 'o', c = 'dimgrey', s = 5, label = 'Mercury')\n",
    "ax1.scatter(venusx, venusy, marker = 'o', c = 'moccasin', s = 5, label = 'Venus')\n",
    "ax1.scatter(marsx, marsy, marker = 'o', c = 'orangered', s = 5, label = 'Mars')\n",
    "ax1.scatter(jupiterx, jupitery, marker = 'o', c = 'sandybrown', s = 5, label = 'Jupiter')\n",
    "ax1.scatter(saturnx, saturny, marker = 'o', c = 'goldenrod', s = 5, label = 'Saturn')\n",
    "ax1.scatter(uranusx, uranusy, marker = 'o', c = 'skyblue', s = 5, label = 'Uranus')\n",
    "ax1.scatter(neptunex, neptuney, marker = 'o', c = 'mediumblue', s = 5, label = 'Neptune')\n",
    "ax1.legend()\n",
    "ax1.set_xlim([-0.5e13, 0.7e13]), ax1.set_ylim([-0.5e13, 0.7e13])\n",
    "ax1.set_xlabel('x (m)'), ax1.set_ylabel('y (m)')\n",
    "\n",
    "ax2.set_title('Inner Planets')\n",
    "ax2.scatter(earthx, earthy, marker = 'o', c = 'blue', s = 5, label = 'Earth')\n",
    "ax2.scatter(sunx, suny, marker = 'o', c = 'darkorange', s = 5, label = 'Sun')\n",
    "ax2.scatter(moonx, moony, marker = 'o', c = 'darkgray', s = 5, label = 'Moon')\n",
    "ax2.scatter(mercuryx, mercuryy, marker = 'o', c = 'dimgrey', s = 5, label = 'Mercury')\n",
    "ax2.scatter(venusx, venusy, marker = 'o', c = 'moccasin', s = 5, label = 'Venus')\n",
    "ax2.scatter(marsx, marsy, marker = 'o', c = 'orangered', s = 5, label = 'Mars')\n",
    "ax2.legend()\n",
    "ax2.set_xlim([-0.3e12, 0.5e12]), ax2.set_ylim([-0.3e12, 0.5e12])\n",
    "ax2.set_xlabel('x (m)'), ax2.set_ylabel('y (m)')\n",
    "\n",
    "plt.show()"
   ]
  },
  {
   "cell_type": "markdown",
   "metadata": {},
   "source": [
    "In the next few cells we're going to try and get an animation of the solar system actually working - I'll start with just the inner planets."
   ]
  },
  {
   "cell_type": "code",
   "execution_count": null,
   "metadata": {},
   "outputs": [],
   "source": [
    "# First set up the figure, the axis, and the plot element we want to animate\n",
    "fig = plt.figure(figsize = (10,10))\n",
    "ax = fig.add_subplot(111)\n",
    "ax.set_xlim((-0.4e12, 0.4e12))\n",
    "ax.set_ylim((-0.4e12, 0.4e12))\n",
    "\n",
    "# Set up lines for each planet object\n",
    "line, = ax.plot([], [])\n",
    "line_earth, = ax.plot([], [], linestyle = 'None', marker = 'o', ms = 10, color = 'blue')\n",
    "line_sun, = ax.plot([], [], linestyle = 'None', marker = 'o', ms = 20, color = 'darkorange')\n",
    "line_moon, = ax.plot([], [], linestyle = 'None', marker = 'o', ms = 8, color = 'darkgray')\n",
    "line_mercury, = ax.plot([], [], linestyle = 'None', marker = 'o', ms = 10, color = 'dimgrey')\n",
    "line_venus, = ax.plot([], [], linestyle = 'None', marker = 'o', ms = 10, color = 'moccasin')\n",
    "line_mars, = ax.plot([], [], linestyle = 'None', marker = 'o', ms = 10, color = 'orangered')\n",
    "\n",
    "# initialization function: plot the background of each frame\n",
    "def init():\n",
    "    line.set_data([], [])\n",
    "    return (line,)\n",
    "\n",
    "# animation function. This is called sequentially\n",
    "def animate(i, planetx, planety):\n",
    "    earth_anim_x = earthx[i-1:i]\n",
    "    earth_anim_y = earthy[i-1:i]\n",
    "    \n",
    "    sun_anim_x = sunx[i-1:i]\n",
    "    sun_anim_y = suny[i-1:i]\n",
    "    \n",
    "    moon_anim_x = moonx[i-1:i]\n",
    "    moon_anim_y = moony[i-1:i]\n",
    "    \n",
    "    mercury_anim_x = mercuryx[i-1:i]\n",
    "    mercury_anim_y = mercuryy[i-1:i]\n",
    "    \n",
    "    venus_anim_x = venusx[i-1:i]\n",
    "    venus_anim_y = venusy[i-1:i]\n",
    "    \n",
    "    mars_anim_x = marsx[i-1:i]\n",
    "    mars_anim_y = marsy[i-1:i]\n",
    "    \n",
    "    line_earth.set_data(earth_anim_x, earth_anim_y)\n",
    "    line_sun.set_data(sun_anim_x, sun_anim_y)\n",
    "    line_moon.set_data(moon_anim_x, moon_anim_y)\n",
    "    line_mercury.set_data(mercury_anim_x, mercury_anim_y)\n",
    "    line_venus.set_data(venus_anim_x, venus_anim_y)\n",
    "    line_mars.set_data(mars_anim_x, mars_anim_y)\n",
    "    return (line,)\n",
    "\n",
    "# call the animator. blit=True means only re-draw the parts that have changed.\n",
    "anim = animation.FuncAnimation(fig, animate, init_func=init, frames=2000, interval=1, blit=True, \n",
    "                               fargs = (earthx, earthy))\n",
    "\n",
    "plt.close()\n",
    "HTML(anim.to_html5_video())"
   ]
  }
 ],
 "metadata": {
  "kernelspec": {
   "display_name": "Python 3",
   "language": "python",
   "name": "python3"
  },
  "language_info": {
   "codemirror_mode": {
    "name": "ipython",
    "version": 3
   },
   "file_extension": ".py",
   "mimetype": "text/x-python",
   "name": "python",
   "nbconvert_exporter": "python",
   "pygments_lexer": "ipython3",
   "version": "3.7.6"
  }
 },
 "nbformat": 4,
 "nbformat_minor": 2
}
